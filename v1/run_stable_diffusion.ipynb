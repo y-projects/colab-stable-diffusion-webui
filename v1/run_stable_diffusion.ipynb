{
  "cells": [
    {
      "cell_type": "markdown",
      "metadata": {
        "id": "view-in-github",
        "colab_type": "text"
      },
      "source": [
        "<a href=\"https://colab.research.google.com/github/zc0125/colab-stable-diffusion-webui/blob/main/v1/run_stable_diffusion.ipynb\" target=\"_parent\"><img src=\"https://colab.research.google.com/assets/colab-badge.svg\" alt=\"Open In Colab\"/></a>"
      ]
    },
    {
      "cell_type": "code",
      "source": [
        "# 运行前同步运行资源到运行目录\n",
        "import os\n",
        "from google.colab.output import eval_js\n",
        "from google.colab import drive\n",
        "%cd /content/\n",
        "drive.mount('/content/drive')\n",
        "os.environ['colab_url'] = eval_js(\"google.colab.kernel.proxyPort(7860, {'cache': false})\")\n",
        "\n",
        "!apt -y update -qq\n",
        "!wget http://launchpadlibrarian.net/367274644/libgoogle-perftools-dev_2.5-2.2ubuntu3_amd64.deb\n",
        "!wget https://launchpad.net/ubuntu/+source/google-perftools/2.5-2.2ubuntu3/+build/14795286/+files/google-perftools_2.5-2.2ubuntu3_all.deb\n",
        "!wget https://launchpad.net/ubuntu/+source/google-perftools/2.5-2.2ubuntu3/+build/14795286/+files/libtcmalloc-minimal4_2.5-2.2ubuntu3_amd64.deb\n",
        "!wget https://launchpad.net/ubuntu/+source/google-perftools/2.5-2.2ubuntu3/+build/14795286/+files/libgoogle-perftools4_2.5-2.2ubuntu3_amd64.deb\n",
        "!apt install -qq libunwind8-dev\n",
        "!dpkg -i *.deb\n",
        "%env LD_PRELOAD=libtcmalloc.so\n",
        "!rm *.deb\n",
        "\n",
        "!apt -y install -qq aria2\n",
        "!pip install -q --pre xformers\n",
        "!pip install -q --pre triton\n",
        "\n",
        "# 同步stable-diffusion-webui项目\n",
        "!test -d /content/stable-diffusion-webui || git clone https://github.com/AUTOMATIC1111/stable-diffusion-webui.git /content/stable-diffusion-webui\n",
        "%cd /content/stable-diffusion-webui/\n",
        "# 初始化检查文件夹\n",
        "!test -d /content/stable-diffusion-webui/extensions || mkdir /content/stable-diffusion-webui/extensions -p\n",
        "!test -d /content/stable-diffusion-webui/models/Stable-diffusion || mkdir /content/stable-diffusion-webui/models/Stable-diffusion -p\n",
        "!test -d /content/stable-diffusion-webui/models/Lora || mkdir /content/stable-diffusion-webui/models/Lora -p\n",
        "!test -d /content/stable-diffusion-webui/models/ControlNet || mkdir /content/stable-diffusion-webui/models/ControlNet -p\n",
        "!test -d /content/stable-diffusion-webui/models/BLIP || mkdir /content/stable-diffusion-webui/models/BLIP -p\n",
        "!test -d /content/stable-diffusion-webui/models/Codeformer || mkdir /content/stable-diffusion-webui/models/Codeformer -p\n",
        "# 同步并使用网盘上的图片保存路径（如果网盘存在对应的路径）\n",
        "!test -d /content/drive/MyDrive/stable-diffusion-webui/outputs || mv /content/stable-diffusion-webui/outputs /content/drive/MyDrive/stable-diffusion-webui/\n",
        "!test -d /content/drive/MyDrive/stable-diffusion-webui/outputs && test -d /content/stable-diffusion-webui/outputs && rm -rf /content/stable-diffusion-webui/outputs\n",
        "!test -d /content/drive/MyDrive/stable-diffusion-webui/outputs && ln -s /content/drive/MyDrive/stable-diffusion-webui/outputs /content/stable-diffusion-webui/outputs\n",
        "# 同步并使用网盘上的models（如果网盘存在对应的路径）\n",
        "# 先同步之前的备份\n",
        "!test -d /content/drive/MyDrive/stable-diffusion-webui/models/back_Stable-diffusion && ln -sf /content/drive/MyDrive/stable-diffusion-webui/models/back_Stable-diffusion/* /content/stable-diffusion-webui/models/Stable-diffusion/\n",
        "!test -d /content/drive/MyDrive/stable-diffusion-webui/models/back_Lora && ln -sf /content/drive/MyDrive/stable-diffusion-webui/models/back_Lora/* /content/stable-diffusion-webui/models/Lora/\n",
        "!test -d /content/drive/MyDrive/stable-diffusion-webui/models/back_ControlNet && ln -sf /content/drive/MyDrive/stable-diffusion-webui/models/back_ControlNet/* /content/stable-diffusion-webui/models/ControlNet/\n",
        "!test -d /content/drive/MyDrive/stable-diffusion-webui/models/back_BLIP && ln -sf /content/drive/MyDrive/stable-diffusion-webui/models/back_BLIP/* /content/stable-diffusion-webui/models/BLIP/\n",
        "!test -d /content/drive/MyDrive/stable-diffusion-webui/models/back_Codeformer && ln -sf /content/drive/MyDrive/stable-diffusion-webui/models/back_Codeformer/* /content/stable-diffusion-webui/models/Codeformer/\n",
        "# 新的model覆盖备份\n",
        "!test -d /content/drive/MyDrive/stable-diffusion-webui/models/Stable-diffusion && ln -sf /content/drive/MyDrive/stable-diffusion-webui/models/Stable-diffusion*/* /content/stable-diffusion-webui/models/Stable-diffusion/\n",
        "!test -d /content/drive/MyDrive/stable-diffusion-webui/models/Lora && ln -sf /content/drive/MyDrive/stable-diffusion-webui/models/Lora*/* /content/stable-diffusion-webui/models/Lora/\n",
        "!test -d /content/drive/MyDrive/stable-diffusion-webui/models/ControlNet && ln -sf /content/drive/MyDrive/stable-diffusion-webui/models/ControlNet*/* /content/stable-diffusion-webui/models/ControlNet/\n",
        "!test -d /content/drive/MyDrive/stable-diffusion-webui/models/BLIP && ln -sf /content/drive/MyDrive/stable-diffusion-webui/models/BLIP*/* /content/stable-diffusion-webui/models/BLIP/\n",
        "!test -d /content/drive/MyDrive/stable-diffusion-webui/models/Codeformer && ln -sf /content/drive/MyDrive/stable-diffusion-webui/models/Codeformer*/* /content/stable-diffusion-webui/models/Codeformer/\n",
        "\n",
        "# 复制model到运行路径 （目前使用的是软链）\n",
        "# !test -d /content/drive/MyDrive/stable-diffusion-webui/models/Stable-diffusion && cp /content/drive/MyDrive/stable-diffusion-webui/models/Stable-diffusion/* /content/stable-diffusion-webui/models/Stable-diffusion/ -r\n",
        "# !test -d /content/drive/MyDrive/stable-diffusion-webui/models/Lora && cp /content/drive/MyDrive/stable-diffusion-webui/models/Lora/* /content/stable-diffusion-webui/models/Lora/ -r\n",
        "# !test -d /content/drive/MyDrive/stable-diffusion-webui/models/ControlNet && cp /content/drive/MyDrive/stable-diffusion-webui/models/ControlNet/* /content/stable-diffusion-webui/models/ControlNet/ -r\n",
        "# !test -d /content/drive/MyDrive/stable-diffusion-webui/models/BLIP && cp /content/drive/MyDrive/stable-diffusion-webui/models/BLIP/* /content/stable-diffusion-webui/models/BLIP/ -r\n",
        "# !test -d /content/drive/MyDrive/stable-diffusion-webui/models/Codeformer && cp /content/drive/MyDrive/stable-diffusion-webui/models/Codeformer/* /content/stable-diffusion-webui/models/Codeformer/ -r\n",
        "\n",
        "# 同步并使用网盘上的拓展（如果网盘存在对应的路径）（有的拓展同步运行存在问题不要使用）\n",
        "# !test -d /content/drive/MyDrive/stable-diffusion-webui/extensions || mv /content/stable-diffusion-webui/extensions /content/drive/MyDrive/stable-diffusion-webui/\n",
        "# !test -d /content/drive/MyDrive/stable-diffusion-webui/extensions && test -d /content/stable-diffusion-webui/extensions && rm -rf /content/stable-diffusion-webui/extensions\n",
        "# !ln -s /content/drive/MyDrive/stable-diffusion-webui/extensions /content/stable-diffusion-webui/extensions\n",
        "# 复制拓展应该可以(能在网上下载的拓展尽量不要保存，复制起来很慢)\n",
        "# !test -d /content/drive/MyDrive/stable-diffusion-webui/extensions && ln -s -f /content/drive/MyDrive/stable-diffusion-webui/extensions/* /content/stable-diffusion-webui/extensions\n",
        "!test -d /content/drive/MyDrive/stable-diffusion-webui/extensions && cp -r -u /content/drive/MyDrive/stable-diffusion-webui/extensions/* /content/stable-diffusion-webui/extensions\n",
        "# 安装新的拓展\n",
        "!test -d /content/stable-diffusion-webui/extensions/stable-diffusion-webui-images-browser || git clone https://github.com/AlUlkesh/stable-diffusion-webui-images-browser /content/stable-diffusion-webui/extensions/stable-diffusion-webui-images-browser\n",
        "!test -d /content/stable-diffusion-webui/extensions/stable-diffusion-webui-huggingface || git clone https://github.com/camenduru/stable-diffusion-webui-huggingface /content/stable-diffusion-webui/extensions/stable-diffusion-webui-huggingface\n",
        "!test -d /content/stable-diffusion-webui/extensions/sd-civitai-browser || git clone -b v2.0 https://github.com/camenduru/sd-civitai-browser /content/stable-diffusion-webui/extensions/sd-civitai-browser\n",
        "!test -d /content/stable-diffusion-webui/extensions/sd-webui-additional-networks || git clone https://github.com/kohya-ss/sd-webui-additional-networks /content/stable-diffusion-webui/extensions/sd-webui-additional-networks\n",
        "!test -d /content/stable-diffusion-webui/extensions/sd-webui-controlnet || git clone https://github.com/Mikubill/sd-webui-controlnet /content/stable-diffusion-webui/extensions/sd-webui-controlnet\n",
        "!test -d /content/stable-diffusion-webui/extensions/openpose-editor || git clone https://github.com/camenduru/openpose-editor /content/stable-diffusion-webui/extensions/openpose-editor\n",
        "!test -d /content/stable-diffusion-webui/extensions/sd-webui-depth-lib || git clone https://github.com/jexom/sd-webui-depth-lib /content/stable-diffusion-webui/extensions/sd-webui-depth-lib\n",
        "!test -d /content/stable-diffusion-webui/extensions/posex || git clone https://github.com/hnmr293/posex /content/stable-diffusion-webui/extensions/posex\n",
        "!test -d /content/stable-diffusion-webui/extensions/sd-webui-tunnels || git clone https://github.com/camenduru/sd-webui-tunnels /content/stable-diffusion-webui/extensions/sd-webui-tunnels\n",
        "!test -d /content/stable-diffusion-webui/extensions/batchlinks-webui || git clone https://github.com/etherealxx/batchlinks-webui /content/stable-diffusion-webui/extensions/batchlinks-webui\n",
        "!test -d /content/stable-diffusion-webui/extensions/stable-diffusion-webui-chinese || git clone https://github.com/VinsonLaro/stable-diffusion-webui-chinese /content/stable-diffusion-webui/extensions/stable-diffusion-webui-chinese\n",
        "!test -d /content/stable-diffusion-webui/extensions/tagcomplete || git clone -b branch/chinese-ex https://github.com/zc0125/webui-tagcomplete.git /content/stable-diffusion-webui/extensions/tagcomplete\n",
        "\n",
        "# 如有需要可以使用这里下载文件到指定目录\n",
        "# !aria2c --console-log-level=error -c -x 16 -k 1M -s 16 https://huggingface.co/ckpt/ControlNet/resolve/main/canny-sd21-safe.safetensors -d /content/stable-diffusion-webui/extensions/sd-webui-controlnet/models -o canny-sd21-safe.safetensors\n",
        "# !aria2c --console-log-level=error -c -x 16 -k 1M -s 16 https://huggingface.co/ckpt/ControlNet/resolve/main/depth-sd21-safe.safetensors -d /content/stable-diffusion-webui/extensions/sd-webui-controlnet/models -o depth-sd21-safe.safetensors\n",
        "# !aria2c --console-log-level=error -c -x 16 -k 1M -s 16 https://huggingface.co/ckpt/ControlNet/resolve/main/hed-sd21-safe.safetensors -d /content/stable-diffusion-webui/extensions/sd-webui-controlnet/models -o hed-sd21-safe.safetensors\n",
        "# !aria2c --console-log-level=error -c -x 16 -k 1M -s 16 https://huggingface.co/ckpt/ControlNet/resolve/main/openpose-sd21-safe.safetensors -d /content/stable-diffusion-webui/extensions/sd-webui-controlnet/models -o openpose-sd21-safe.safetensors\n",
        "# !aria2c --console-log-level=error -c -x 16 -k 1M -s 16 https://huggingface.co/ckpt/ControlNet/resolve/main/scribble-sd21-safe.safetensors -d /content/stable-diffusion-webui/extensions/sd-webui-controlnet/models -o scribble-sd21-safe.safetensors\n",
        "# !aria2c --console-log-level=error -c -x 16 -k 1M -s 16 https://huggingface.co/ckpt/ControlNet/raw/main/cldm_v21.yaml -d /content/stable-diffusion-webui/extensions/sd-webui-controlnet/models -o canny-sd21-safe.yaml\n",
        "# !aria2c --console-log-level=error -c -x 16 -k 1M -s 16 https://huggingface.co/ckpt/ControlNet/raw/main/cldm_v21.yaml -d /content/stable-diffusion-webui/extensions/sd-webui-controlnet/models -o depth-sd21-safe.yaml\n",
        "# !aria2c --console-log-level=error -c -x 16 -k 1M -s 16 https://huggingface.co/ckpt/ControlNet/raw/main/cldm_v21.yaml -d /content/stable-diffusion-webui/extensions/sd-webui-controlnet/models -o hed-sd21-safe.yaml\n",
        "# !aria2c --console-log-level=error -c -x 16 -k 1M -s 16 https://huggingface.co/ckpt/ControlNet/raw/main/cldm_v21.yaml -d /content/stable-diffusion-webui/extensions/sd-webui-controlnet/models -o openpose-sd21-safe.yaml\n",
        "# !aria2c --console-log-level=error -c -x 16 -k 1M -s 16 https://huggingface.co/ckpt/ControlNet/raw/main/cldm_v21.yaml -d /content/stable-diffusion-webui/extensions/sd-webui-controlnet/models -o scribble-sd21-safe.yaml\n",
        "\n",
        "# 直接启动\n",
        "# !python launch.py --share --xformers --enable-insecure-extension-access --theme dark --gradio-queue"
      ],
      "metadata": {
        "id": "SnwCn7M8XJ5h"
      },
      "execution_count": null,
      "outputs": []
    },
    {
      "cell_type": "code",
      "source": [
        "#单独的启动脚本\n",
        "!python launch.py --share --xformers --enable-insecure-extension-access --theme dark --gradio-queue"
      ],
      "metadata": {
        "id": "r6DxIr73eHyu"
      },
      "execution_count": null,
      "outputs": []
    },
    {
      "cell_type": "code",
      "source": [
        "# 重置运行目录\n",
        "%cd /content/\n",
        "!rm -rf /content/stable-diffusion-webui"
      ],
      "metadata": {
        "id": "Q6Qc7BFPummZ"
      },
      "execution_count": null,
      "outputs": []
    },
    {
      "cell_type": "code",
      "source": [
        "# 如果网盘上不存在outputs文件夹，将outputs同步到网盘，以备下次使用\n",
        "!test -d /content/drive/MyDrive/stable-diffusion-webui/outputs || mv /content/stable-diffusion-webui/outputs /content/drive/MyDrive/stable-diffusion-webui/\n",
        "!test -d /content/drive/MyDrive/stable-diffusion-webui/outputs && test -d /content/stable-diffusion-webui/outputs && rm -rf /content/stable-diffusion-webui/outputs\n",
        "!ln -s /content/drive/MyDrive/stable-diffusion-webui/outputs /content/stable-diffusion-webui/outputs"
      ],
      "metadata": {
        "id": "pj7c-QjixgBw"
      },
      "execution_count": null,
      "outputs": []
    },
    {
      "cell_type": "code",
      "source": [
        "# 如果网盘上不存在extensions文件夹，将extensions同步到网盘，以备下次使用（目前先不要使用，有的拓展存在问题）\n",
        "# !test -d /content/drive/MyDrive/stable-diffusion-webui/extensions || mv /content/stable-diffusion-webui/extensions /content/drive/MyDrive/stable-diffusion-webui/\n",
        "# !test -d /content/drive/MyDrive/stable-diffusion-webui/extensions && test -d /content/stable-diffusion-webui/extensions && rm -rf /content/stable-diffusion-webui/extensions\n",
        "# !ln -s /content/drive/MyDrive/stable-diffusion-webui/extensions /content/stable-diffusion-webui/extensions"
      ],
      "metadata": {
        "id": "7N7M3RFp0j24"
      },
      "execution_count": null,
      "outputs": []
    },
    {
      "cell_type": "code",
      "source": [
        "# (如果网盘有足够的使用空间) 可以把当前新下载的model同步至网盘，以备下次使用\n",
        "!test -d /content/drive/MyDrive/stable-diffusion-webui/models/back_Stable-diffusion || mkdir /content/drive/MyDrive/stable-diffusion-webui/models/back_Stable-diffusion -p\n",
        "!test -d /content/drive/MyDrive/stable-diffusion-webui/models/back_Lora || mkdir /content/drive/MyDrive/stable-diffusion-webui/models/back_Lora -p\n",
        "!test -d /content/drive/MyDrive/stable-diffusion-webui/models/back_ControlNet || mkdir /content/drive/MyDrive/stable-diffusion-webui/models/back_ControlNet -p\n",
        "!test -d /content/drive/MyDrive/stable-diffusion-webui/models/back_BLIP || mkdir /content/drive/MyDrive/stable-diffusion-webui/models/models/back_BLIP -p\n",
        "!test -d /content/drive/MyDrive/stable-diffusion-webui/models/back_Codeformer || mkdir /content/drive/MyDrive/stable-diffusion-webui/models/back_Codeformer -p\n",
        "!test -d /content/stable-diffusion-webui/models/Stable-diffusion && cp -r -u /content/stable-diffusion-webui/models/Stable-diffusion/* /content/drive/MyDrive/stable-diffusion-webui/models/back_Stable-diffusion/\n",
        "!test -d /content/stable-diffusion-webui/models/Lora && cp -r -u /content/stable-diffusion-webui/models/Lora/* /content/drive/MyDrive/stable-diffusion-webui/models/back_Lora/\n",
        "!test -d /content/stable-diffusion-webui/models/ControlNet && cp -r -u /content/stable-diffusion-webui/models/ControlNet/* /content/drive/MyDrive/stable-diffusion-webui/models/back_ControlNet/\n",
        "!test -d /content/stable-diffusion-webui/models/BLIP && cp -r -u /content/stable-diffusion-webui/models/BLIP/* /content/drive/MyDrive/stable-diffusion-webui/models/back_BLIP/\n",
        "!test -d /content/stable-diffusion-webui/models/Codeformer && cp -r -u /content/stable-diffusion-webui/models/Codeformer/* /content/drive/MyDrive/stable-diffusion-webui/models/back_Codeformer/"
      ],
      "metadata": {
        "id": "0RX557YYAva8"
      },
      "execution_count": null,
      "outputs": []
    },
    {
      "cell_type": "code",
      "source": [
        "#重新挂载网盘\n",
        "from google.colab import drive\n",
        "%cd /content/\n",
        "drive.mount('/content/drive')"
      ],
      "metadata": {
        "id": "tj8dwKMHQDjn"
      },
      "execution_count": null,
      "outputs": []
    },
    {
      "cell_type": "code",
      "source": [
        "# 如果网盘上的model有更新，执行当前脚本将model同步到运行目录\n",
        "!test -d /content/drive/MyDrive/stable-diffusion-webui/models/Stable-diffusion && ln -sf /content/drive/MyDrive/stable-diffusion-webui/models/Stable-diffusion*/* /content/stable-diffusion-webui/models/Stable-diffusion/\n",
        "!test -d /content/drive/MyDrive/stable-diffusion-webui/models/Lora && ln -sf /content/drive/MyDrive/stable-diffusion-webui/models/Lora*/* /content/stable-diffusion-webui/models/Lora/\n",
        "!test -d /content/drive/MyDrive/stable-diffusion-webui/models/ControlNet && ln -sf /content/drive/MyDrive/stable-diffusion-webui/models/ControlNet*/* /content/stable-diffusion-webui/models/ControlNet/\n",
        "!test -d /content/drive/MyDrive/stable-diffusion-webui/models/BLIP && ln -sf /content/drive/MyDrive/stable-diffusion-webui/models/BLIP*/* /content/stable-diffusion-webui/models/BLIP/\n",
        "!test -d /content/drive/MyDrive/stable-diffusion-webui/models/Codeformer && ln -sf /content/drive/MyDrive/stable-diffusion-webui/models/Codeformer*/* /content/stable-diffusion-webui/models/Codeformer/"
      ],
      "metadata": {
        "id": "DIuEv6ZPMvD4"
      },
      "execution_count": null,
      "outputs": []
    },
    {
      "cell_type": "code",
      "source": [
        "# 如果启动过程中报了torchvision冲突，卸载重装，强制解决\n",
        "!pip uninstall torchvision"
      ],
      "metadata": {
        "id": "5AFYiKPs2ROC"
      },
      "execution_count": null,
      "outputs": []
    },
    {
      "cell_type": "code",
      "source": [
        "# 下载新文件，快!!!\n",
        "# !aria2c --console-log-level=error -c -x 16 -k 1M -s 16 https://civitai.com/api/download/models/11101 -d /content/drive/MyDrive/stable-diffusion-webui/models/Lora -o mikuya_v15.safetensors\n",
        "# !aria2c --console-log-level=error -c -x 16 -k 1M -s 16 https://civitai.com/api/download/models/25927 -d /content/drive/MyDrive/stable-diffusion-webui/models/Lora\n",
        "# !aria2c --console-log-level=error -c -x 16 -k 1M -s 16 https://civitai.com/api/download/models/24117 -d /content/drive/MyDrive/stable-diffusion-webui/models/Stable-diffusion"
      ],
      "metadata": {
        "id": "c3PlsCFv6DdK"
      },
      "execution_count": null,
      "outputs": []
    }
  ],
  "metadata": {
    "accelerator": "GPU",
    "colab": {
      "private_outputs": true,
      "provenance": [],
      "include_colab_link": true
    },
    "gpuClass": "standard",
    "kernelspec": {
      "display_name": "Python 3",
      "name": "python3"
    },
    "language_info": {
      "name": "python"
    }
  },
  "nbformat": 4,
  "nbformat_minor": 0
}